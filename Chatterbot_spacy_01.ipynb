{
 "cells": [
  {
   "cell_type": "markdown",
   "id": "3ef061db",
   "metadata": {},
   "source": [
    "\n",
    "### Chatterbot\n",
    "\n",
    "#### Criar ambiente virtual no Anaconda Prompt:\n",
    "\n",
    "*conda create --name chatbotpython python=3.6*\n",
    "\n",
    "*Proceed ([y]/n)? __y__*\n",
    "\n",
    "#### Ativar o ambiente virtual:\n",
    "\n",
    "*conda activate chatbotpython*\n",
    "\n",
    "#### Instalar o jupyter, chatterbot e spacy dentro do ambiente virtual:\n",
    "\n",
    "*pip install jupyter; pip install chatterbot; pip install spacy*\n",
    "\n",
    "#### Abrir o jupyter notebook dentro do ambiente virtual\n",
    "\n",
    "*(Diretório)\\jupyter notebook*\n",
    "\n",
    "* Passo 1: Criar o chatbot\n",
    "* Passo 2: Treinar o chatbot\n",
    "* Passo 3: Executar o chatbot"
   ]
  },
  {
   "cell_type": "code",
   "execution_count": 1,
   "id": "3671a00a",
   "metadata": {},
   "outputs": [
    {
     "name": "stdout",
     "output_type": "stream",
     "text": [
      "✔ Download and installation successful\n",
      "You can now load the package via spacy.load('en_core_web_sm')\n"
     ]
    }
   ],
   "source": [
    "# Importar o ChatBot da biblioteca chatterbot\n",
    "from chatterbot import ChatBot\n",
    "from chatterbot.trainers import ListTrainer\n",
    "\n",
    "# Resolver o bug de compatibilidade entre as bibliotecas spacy e chatbot com o modelo 'en'\n",
    "from spacy.cli import download\n",
    "\n",
    "download(\"en_core_web_sm\")\n",
    "\n",
    "class ENGSM:\n",
    "\tISO_639_1 = 'en_core_web_sm'"
   ]
  },
  {
   "cell_type": "code",
   "execution_count": 6,
   "id": "b927c2c9",
   "metadata": {},
   "outputs": [
    {
     "name": "stdout",
     "output_type": "stream",
     "text": [
      "List Trainer: [####################] 100%\n"
     ]
    }
   ],
   "source": [
    "# Criar o chatbot\n",
    "chatbot = ChatBot(\"Bot\", tagger_language=ENGSM) #Nomear o bot e corrigir o modelo 'en'\n",
    "\n",
    "# Definir a sequência do diálogo\n",
    "conversa = [\n",
    "    \"Olá\",\n",
    "    \"Oi, tudo bem? O que você precisa?\",\n",
    "    \"Horários de funcionamento\",\n",
    "    \"Estamos abertos das 08h00 às 18h00 de segunda à sexta.\",\n",
    "]\n",
    "\n",
    "# Treinar o chatbot\n",
    "trainer = ListTrainer(chatbot)\n",
    "trainer.train(conversa)"
   ]
  },
  {
   "cell_type": "code",
   "execution_count": 7,
   "id": "1276b498",
   "metadata": {},
   "outputs": [
    {
     "name": "stdout",
     "output_type": "stream",
     "text": [
      "Mande uma mensagem para o chatbot (digite 'parar' para interromper):parar\n"
     ]
    }
   ],
   "source": [
    "# Executar o chatbot\n",
    "while True:\n",
    "    mensagem = input(\"Mande uma mensagem para o chatbot (digite 'parar' para interromper):\")\n",
    "    if mensagem == \"parar\":\n",
    "        break\n",
    "    resposta = chatbot.get_response(mensagem)\n",
    "    print(resposta)"
   ]
  },
  {
   "cell_type": "code",
   "execution_count": 5,
   "id": "ae42133c",
   "metadata": {},
   "outputs": [],
   "source": [
    "chatbot.storage.drop() # Rodar para limpar o banco de dados de treinamento"
   ]
  }
 ],
 "metadata": {
  "kernelspec": {
   "display_name": "Python 3",
   "language": "python",
   "name": "python3"
  },
  "language_info": {
   "codemirror_mode": {
    "name": "ipython",
    "version": 3
   },
   "file_extension": ".py",
   "mimetype": "text/x-python",
   "name": "python",
   "nbconvert_exporter": "python",
   "pygments_lexer": "ipython3",
   "version": "3.6.13"
  }
 },
 "nbformat": 4,
 "nbformat_minor": 5
}
